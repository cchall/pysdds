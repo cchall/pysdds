{
 "cells": [
  {
   "cell_type": "code",
   "execution_count": 1,
   "metadata": {},
   "outputs": [],
   "source": [
    "import pysdds\n",
    "\n",
    "# To show logging messages in the notebook\n",
    "import logging\n",
    "logging.basicConfig()\n",
    "logger = logging.getLogger()\n",
    "logger.setLevel(logging.INFO)"
   ]
  },
  {
   "cell_type": "code",
   "execution_count": 2,
   "outputs": [
    {
     "name": "stderr",
     "output_type": "stream",
     "text": [
      "INFO:pysdds.readers.readers:Opening file \"..\\tests\\files\\sources\\twiss_binary\"\n",
      "INFO:pysdds.readers.readers:Mode (auto), compression (auto), endianness (auto)\n",
      "INFO:pysdds.readers.readers:Auto compression resolved as (None) from file extension\n",
      "INFO:pysdds.readers.readers:Header parsed: 62 parameters, 0 arrays, 18 columns\n",
      "INFO:pysdds.readers.readers:Finished in 9.567 ms\n",
      "INFO:pysdds.readers.readers:Totals: 1 pages, 174 rows, 62 parameters, 0/0 arrays, 18/18 columns\n",
      "\n"
     ]
    },
    {
     "data": {
      "text/plain": "[SDDS Column (1 pages) at <0x2234dcbdfc0>: {'name': 's', 'units': 'm', 'description': 'Distance', 'type': 'double'},\n SDDS Column (1 pages) at <0x2234dcbe340>: {'name': 'betax', 'symbol': '$gb$r$bx$n', 'units': 'm', 'description': 'Horizontal beta-function', 'type': 'double'},\n SDDS Column (1 pages) at <0x2234dcbe640>: {'name': 'alphax', 'symbol': '$ga$r$bx$n', 'description': 'Horizontal alpha-function', 'type': 'double'},\n SDDS Column (1 pages) at <0x2234dcbe9c0>: {'name': 'psix', 'symbol': '$gy$r$bx$n', 'units': 'rad', 'description': 'Horizontal phase advance', 'type': 'double'},\n SDDS Column (1 pages) at <0x2234dcbed00>: {'name': 'etax', 'symbol': '$gc$r$bx$n', 'units': 'm', 'description': 'Horizontal dispersion', 'type': 'double'},\n SDDS Column (1 pages) at <0x2234dcc0080>: {'name': 'etaxp', 'symbol': \"$gc$r$bx$n$a'$n\", 'description': 'Slope of horizontal dispersion', 'type': 'double'},\n SDDS Column (1 pages) at <0x2234dcc03c0>: {'name': 'xAperture', 'symbol': 'a$bx,eff$n', 'units': 'm', 'description': 'Effective horizontal aperture', 'type': 'double'},\n SDDS Column (1 pages) at <0x2234dcc0700>: {'name': 'betay', 'symbol': '$gb$r$by$n', 'units': 'm', 'description': 'Vertical beta-function', 'type': 'double'},\n SDDS Column (1 pages) at <0x2234dcc0a00>: {'name': 'alphay', 'symbol': '$ga$r$by$n', 'description': 'Vertical alpha-function', 'type': 'double'},\n SDDS Column (1 pages) at <0x2234dcc0d40>: {'name': 'psiy', 'symbol': '$gy$r$by$n', 'units': 'rad', 'description': 'Vertical phase advance', 'type': 'double'},\n SDDS Column (1 pages) at <0x2234dcc10c0>: {'name': 'etay', 'symbol': '$gc$r$by$n', 'units': 'm', 'description': 'Vertical dispersion', 'type': 'double'},\n SDDS Column (1 pages) at <0x2234dcc13c0>: {'name': 'etayp', 'symbol': \"$gc$r$by$n$a'$n\", 'description': 'Slope of vertical dispersion', 'type': 'double'},\n SDDS Column (1 pages) at <0x2234dcc1700>: {'name': 'yAperture', 'symbol': 'a$by,eff$n', 'units': 'm', 'description': 'Effective vertical aperture', 'type': 'double'},\n SDDS Column (1 pages) at <0x2234dcc1a80>: {'name': 'pCentral0', 'symbol': 'p$bcent$n', 'units': 'm$be$nc', 'description': 'Initial central momentum', 'type': 'double'},\n SDDS Column (1 pages) at <0x2234dcc1dc0>: {'name': 'ElementName', 'description': 'Element name', 'format_string': '%10s', 'type': 'string'},\n SDDS Column (1 pages) at <0x2234dcc20c0>: {'name': 'ElementOccurence', 'description': 'Occurence of element', 'format_string': '%6ld', 'type': 'long'},\n SDDS Column (1 pages) at <0x2234dcc23c0>: {'name': 'ElementType', 'description': 'Element-type name', 'format_string': '%10s', 'type': 'string'},\n SDDS Column (1 pages) at <0x2234dcc2600>: {'name': 'ChamberShape', 'type': 'string'}]"
     },
     "execution_count": 2,
     "metadata": {},
     "output_type": "execute_result"
    }
   ],
   "source": [
    "# Simple 1-page file\n",
    "sdds = pysdds.read('../tests/files/sources/twiss_binary')\n",
    "sdds.columns"
   ],
   "metadata": {
    "collapsed": false,
    "pycharm": {
     "name": "#%%\n"
    }
   }
  },
  {
   "cell_type": "code",
   "execution_count": 3,
   "outputs": [
    {
     "data": {
      "text/plain": "(174,)"
     },
     "execution_count": 3,
     "metadata": {},
     "output_type": "execute_result"
    }
   ],
   "source": [
    "sdds.col('betax').data[0].shape"
   ],
   "metadata": {
    "collapsed": false,
    "pycharm": {
     "name": "#%%\n"
    }
   }
  },
  {
   "cell_type": "code",
   "execution_count": 4,
   "metadata": {},
   "outputs": [
    {
     "name": "stderr",
     "output_type": "stream",
     "text": [
      "INFO:pysdds.readers.readers:Opening file \"..\\tests\\files\\sources\\timeSeries.sdds\"\n",
      "INFO:pysdds.readers.readers:Mode (auto), compression (auto), endianness (auto)\n",
      "INFO:pysdds.readers.readers:Auto compression resolved as (None) from file extension\n",
      "INFO:pysdds.readers.readers:Header parsed: 11 parameters, 0 arrays, 2 columns\n",
      "INFO:pysdds.readers.readers:Finished in 155.493 ms\n",
      "INFO:pysdds.readers.readers:Totals: 157 pages, 67851 rows, 11 parameters, 0/0 arrays, 2/2 columns\n",
      "\n"
     ]
    },
    {
     "data": {
      "text/plain": "            ReadbackName                  ControlName\n0  InjectionTriggerCount       It:L:bunch_countCC.VAL\n1        P:ESP:Discharge  It:PSP:extDischargeDDG.GATE\n2        P:ISP:Discharge  It:PSP:injDischargeDDG.GATE\n3             Par1HzMode             It:Par:1HzBO.VAL\n4           P:ESP:Charge      It:ParExtChargeDDG.GATE",
      "text/html": "<div>\n<style scoped>\n    .dataframe tbody tr th:only-of-type {\n        vertical-align: middle;\n    }\n\n    .dataframe tbody tr th {\n        vertical-align: top;\n    }\n\n    .dataframe thead th {\n        text-align: right;\n    }\n</style>\n<table border=\"1\" class=\"dataframe\">\n  <thead>\n    <tr style=\"text-align: right;\">\n      <th></th>\n      <th>ReadbackName</th>\n      <th>ControlName</th>\n    </tr>\n  </thead>\n  <tbody>\n    <tr>\n      <th>0</th>\n      <td>InjectionTriggerCount</td>\n      <td>It:L:bunch_countCC.VAL</td>\n    </tr>\n    <tr>\n      <th>1</th>\n      <td>P:ESP:Discharge</td>\n      <td>It:PSP:extDischargeDDG.GATE</td>\n    </tr>\n    <tr>\n      <th>2</th>\n      <td>P:ISP:Discharge</td>\n      <td>It:PSP:injDischargeDDG.GATE</td>\n    </tr>\n    <tr>\n      <th>3</th>\n      <td>Par1HzMode</td>\n      <td>It:Par:1HzBO.VAL</td>\n    </tr>\n    <tr>\n      <th>4</th>\n      <td>P:ESP:Charge</td>\n      <td>It:ParExtChargeDDG.GATE</td>\n    </tr>\n  </tbody>\n</table>\n</div>"
     },
     "execution_count": 4,
     "metadata": {},
     "output_type": "execute_result"
    }
   ],
   "source": [
    "# Multi-page file\n",
    "sdds = pysdds.read('../tests/files/sources/timeSeries.sdds')\n",
    "sdds.columns_to_df(page=10).head(5)"
   ]
  },
  {
   "cell_type": "code",
   "execution_count": 5,
   "outputs": [
    {
     "name": "stderr",
     "output_type": "stream",
     "text": [
      "INFO:pysdds.readers.readers:Opening file \"..\\tests\\files\\sources\\timeSeries.sdds\"\n",
      "INFO:pysdds.readers.readers:Mode (auto), compression (auto), endianness (auto)\n",
      "INFO:pysdds.readers.readers:Auto compression resolved as (None) from file extension\n",
      "INFO:pysdds.readers.readers:Header parsed: 11 parameters, 0 arrays, 2 columns\n",
      "WARNING:pysdds.readers.readers:Pages mask [False, False, False, False, False, True] is too short - have at least 1931568 extra bytes\n",
      "INFO:pysdds.readers.readers:Finished in 9.447 ms\n",
      "INFO:pysdds.readers.readers:Totals: 1 pages, 2242 rows, 11 parameters, 0/0 arrays, 1/2 columns\n",
      "\n"
     ]
    }
   ],
   "source": [
    "# Page selection\n",
    "sdds = pysdds.read('../tests/files/sources/timeSeries.sdds', pages=[5], cols=['ControlName'])"
   ],
   "metadata": {
    "collapsed": false,
    "pycharm": {
     "name": "#%%\n"
    }
   }
  },
  {
   "cell_type": "code",
   "execution_count": 6,
   "metadata": {},
   "outputs": [
    {
     "data": {
      "text/plain": "      NumberCombined                                    InstallLocation  \\\nPage                                                                      \n0                157  /home/helios/oagData/logging/BoosterBPM/Booste...   \n\n     TimeStamp ChangeComment  Interval  Steps  \\\nPage                                            \n0                                  0.0      0   \n\n                                               Filename ChangeLog  \\\nPage                                                                \n0     /home/helios/oagData/logging/BoosterBPM/Booste...             \n\n         GroupName        subDirectory    rootname  \nPage                                                \n0     Booster BPMs  logging/BoosterBPM  BoosterBPM  ",
      "text/html": "<div>\n<style scoped>\n    .dataframe tbody tr th:only-of-type {\n        vertical-align: middle;\n    }\n\n    .dataframe tbody tr th {\n        vertical-align: top;\n    }\n\n    .dataframe thead th {\n        text-align: right;\n    }\n</style>\n<table border=\"1\" class=\"dataframe\">\n  <thead>\n    <tr style=\"text-align: right;\">\n      <th></th>\n      <th>NumberCombined</th>\n      <th>InstallLocation</th>\n      <th>TimeStamp</th>\n      <th>ChangeComment</th>\n      <th>Interval</th>\n      <th>Steps</th>\n      <th>Filename</th>\n      <th>ChangeLog</th>\n      <th>GroupName</th>\n      <th>subDirectory</th>\n      <th>rootname</th>\n    </tr>\n    <tr>\n      <th>Page</th>\n      <th></th>\n      <th></th>\n      <th></th>\n      <th></th>\n      <th></th>\n      <th></th>\n      <th></th>\n      <th></th>\n      <th></th>\n      <th></th>\n      <th></th>\n    </tr>\n  </thead>\n  <tbody>\n    <tr>\n      <th>0</th>\n      <td>157</td>\n      <td>/home/helios/oagData/logging/BoosterBPM/Booste...</td>\n      <td></td>\n      <td></td>\n      <td>0.0</td>\n      <td>0</td>\n      <td>/home/helios/oagData/logging/BoosterBPM/Booste...</td>\n      <td></td>\n      <td>Booster BPMs</td>\n      <td>logging/BoosterBPM</td>\n      <td>BoosterBPM</td>\n    </tr>\n  </tbody>\n</table>\n</div>"
     },
     "execution_count": 6,
     "metadata": {},
     "output_type": "execute_result"
    }
   ],
   "source": [
    "sdds.parameters_to_df()"
   ]
  },
  {
   "cell_type": "code",
   "execution_count": 7,
   "metadata": {},
   "outputs": [
    {
     "data": {
      "text/plain": "                     ControlName\n0     B:bpmT41_48:Cycle_count_li\n1     B:bpmT41_48:Delay_count_li\n2                    B1C0P1:ms:x\n3                    B1C0P1:ms:y\n4  B1C0P1:region0Avg:XPositionAI",
      "text/html": "<div>\n<style scoped>\n    .dataframe tbody tr th:only-of-type {\n        vertical-align: middle;\n    }\n\n    .dataframe tbody tr th {\n        vertical-align: top;\n    }\n\n    .dataframe thead th {\n        text-align: right;\n    }\n</style>\n<table border=\"1\" class=\"dataframe\">\n  <thead>\n    <tr style=\"text-align: right;\">\n      <th></th>\n      <th>ControlName</th>\n    </tr>\n  </thead>\n  <tbody>\n    <tr>\n      <th>0</th>\n      <td>B:bpmT41_48:Cycle_count_li</td>\n    </tr>\n    <tr>\n      <th>1</th>\n      <td>B:bpmT41_48:Delay_count_li</td>\n    </tr>\n    <tr>\n      <th>2</th>\n      <td>B1C0P1:ms:x</td>\n    </tr>\n    <tr>\n      <th>3</th>\n      <td>B1C0P1:ms:y</td>\n    </tr>\n    <tr>\n      <th>4</th>\n      <td>B1C0P1:region0Avg:XPositionAI</td>\n    </tr>\n  </tbody>\n</table>\n</div>"
     },
     "execution_count": 7,
     "metadata": {},
     "output_type": "execute_result"
    }
   ],
   "source": [
    "sdds.columns_to_df().head(5)"
   ]
  },
  {
   "cell_type": "code",
   "execution_count": 8,
   "outputs": [
    {
     "data": {
      "text/plain": "                     ControlName  NumberCombined  \\\n0     B:bpmT41_48:Cycle_count_li             157   \n1     B:bpmT41_48:Delay_count_li             157   \n2                    B1C0P1:ms:x             157   \n3                    B1C0P1:ms:y             157   \n4  B1C0P1:region0Avg:XPositionAI             157   \n\n                                     InstallLocation TimeStamp ChangeComment  \\\n0  /home/helios/oagData/logging/BoosterBPM/Booste...                           \n1  /home/helios/oagData/logging/BoosterBPM/Booste...                           \n2  /home/helios/oagData/logging/BoosterBPM/Booste...                           \n3  /home/helios/oagData/logging/BoosterBPM/Booste...                           \n4  /home/helios/oagData/logging/BoosterBPM/Booste...                           \n\n   Interval  Steps                                           Filename  \\\n0       0.0      0  /home/helios/oagData/logging/BoosterBPM/Booste...   \n1       0.0      0  /home/helios/oagData/logging/BoosterBPM/Booste...   \n2       0.0      0  /home/helios/oagData/logging/BoosterBPM/Booste...   \n3       0.0      0  /home/helios/oagData/logging/BoosterBPM/Booste...   \n4       0.0      0  /home/helios/oagData/logging/BoosterBPM/Booste...   \n\n  ChangeLog     GroupName        subDirectory    rootname  \n0            Booster BPMs  logging/BoosterBPM  BoosterBPM  \n1            Booster BPMs  logging/BoosterBPM  BoosterBPM  \n2            Booster BPMs  logging/BoosterBPM  BoosterBPM  \n3            Booster BPMs  logging/BoosterBPM  BoosterBPM  \n4            Booster BPMs  logging/BoosterBPM  BoosterBPM  ",
      "text/html": "<div>\n<style scoped>\n    .dataframe tbody tr th:only-of-type {\n        vertical-align: middle;\n    }\n\n    .dataframe tbody tr th {\n        vertical-align: top;\n    }\n\n    .dataframe thead th {\n        text-align: right;\n    }\n</style>\n<table border=\"1\" class=\"dataframe\">\n  <thead>\n    <tr style=\"text-align: right;\">\n      <th></th>\n      <th>ControlName</th>\n      <th>NumberCombined</th>\n      <th>InstallLocation</th>\n      <th>TimeStamp</th>\n      <th>ChangeComment</th>\n      <th>Interval</th>\n      <th>Steps</th>\n      <th>Filename</th>\n      <th>ChangeLog</th>\n      <th>GroupName</th>\n      <th>subDirectory</th>\n      <th>rootname</th>\n    </tr>\n  </thead>\n  <tbody>\n    <tr>\n      <th>0</th>\n      <td>B:bpmT41_48:Cycle_count_li</td>\n      <td>157</td>\n      <td>/home/helios/oagData/logging/BoosterBPM/Booste...</td>\n      <td></td>\n      <td></td>\n      <td>0.0</td>\n      <td>0</td>\n      <td>/home/helios/oagData/logging/BoosterBPM/Booste...</td>\n      <td></td>\n      <td>Booster BPMs</td>\n      <td>logging/BoosterBPM</td>\n      <td>BoosterBPM</td>\n    </tr>\n    <tr>\n      <th>1</th>\n      <td>B:bpmT41_48:Delay_count_li</td>\n      <td>157</td>\n      <td>/home/helios/oagData/logging/BoosterBPM/Booste...</td>\n      <td></td>\n      <td></td>\n      <td>0.0</td>\n      <td>0</td>\n      <td>/home/helios/oagData/logging/BoosterBPM/Booste...</td>\n      <td></td>\n      <td>Booster BPMs</td>\n      <td>logging/BoosterBPM</td>\n      <td>BoosterBPM</td>\n    </tr>\n    <tr>\n      <th>2</th>\n      <td>B1C0P1:ms:x</td>\n      <td>157</td>\n      <td>/home/helios/oagData/logging/BoosterBPM/Booste...</td>\n      <td></td>\n      <td></td>\n      <td>0.0</td>\n      <td>0</td>\n      <td>/home/helios/oagData/logging/BoosterBPM/Booste...</td>\n      <td></td>\n      <td>Booster BPMs</td>\n      <td>logging/BoosterBPM</td>\n      <td>BoosterBPM</td>\n    </tr>\n    <tr>\n      <th>3</th>\n      <td>B1C0P1:ms:y</td>\n      <td>157</td>\n      <td>/home/helios/oagData/logging/BoosterBPM/Booste...</td>\n      <td></td>\n      <td></td>\n      <td>0.0</td>\n      <td>0</td>\n      <td>/home/helios/oagData/logging/BoosterBPM/Booste...</td>\n      <td></td>\n      <td>Booster BPMs</td>\n      <td>logging/BoosterBPM</td>\n      <td>BoosterBPM</td>\n    </tr>\n    <tr>\n      <th>4</th>\n      <td>B1C0P1:region0Avg:XPositionAI</td>\n      <td>157</td>\n      <td>/home/helios/oagData/logging/BoosterBPM/Booste...</td>\n      <td></td>\n      <td></td>\n      <td>0.0</td>\n      <td>0</td>\n      <td>/home/helios/oagData/logging/BoosterBPM/Booste...</td>\n      <td></td>\n      <td>Booster BPMs</td>\n      <td>logging/BoosterBPM</td>\n      <td>BoosterBPM</td>\n    </tr>\n  </tbody>\n</table>\n</div>"
     },
     "execution_count": 8,
     "metadata": {},
     "output_type": "execute_result"
    }
   ],
   "source": [
    "sdds.page_to_df().head(5)"
   ],
   "metadata": {
    "collapsed": false,
    "pycharm": {
     "name": "#%%\n"
    }
   }
  },
  {
   "cell_type": "code",
   "execution_count": 8,
   "outputs": [],
   "source": [],
   "metadata": {
    "collapsed": false,
    "pycharm": {
     "name": "#%%\n"
    }
   }
  },
  {
   "cell_type": "code",
   "execution_count": null,
   "outputs": [],
   "source": [],
   "metadata": {
    "collapsed": false,
    "pycharm": {
     "name": "#%%\n"
    }
   }
  },
  {
   "cell_type": "code",
   "execution_count": null,
   "outputs": [],
   "source": [],
   "metadata": {
    "collapsed": false,
    "pycharm": {
     "name": "#%%\n"
    }
   }
  }
 ],
 "metadata": {
  "interpreter": {
   "hash": "822805c3b960417ea6ff24e4f8316e2e2534248403955ed1281f21577e2436c4"
  },
  "kernelspec": {
   "display_name": "Python 3.9.7 64-bit ('py39': conda)",
   "name": "python3"
  },
  "language_info": {
   "codemirror_mode": {
    "name": "ipython",
    "version": 3
   },
   "file_extension": ".py",
   "mimetype": "text/x-python",
   "name": "python",
   "nbconvert_exporter": "python",
   "pygments_lexer": "ipython3",
   "version": "3.9.7"
  },
  "orig_nbformat": 4
 },
 "nbformat": 4,
 "nbformat_minor": 2
}