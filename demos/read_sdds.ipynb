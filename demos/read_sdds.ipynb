{
 "cells": [
  {
   "cell_type": "code",
   "execution_count": 1,
   "outputs": [],
   "source": [
    "import pysdds\n",
    "\n",
    "# To show logging messages in the notebook\n",
    "import logging\n",
    "logging.basicConfig()\n",
    "logger = logging.getLogger()\n",
    "logger.setLevel(logging.INFO)"
   ],
   "metadata": {
    "collapsed": false,
    "pycharm": {
     "name": "#%%\n"
    }
   }
  },
  {
   "cell_type": "code",
   "execution_count": 2,
   "outputs": [
    {
     "name": "stderr",
     "output_type": "stream",
     "text": [
      "INFO:pysdds.readers.readers:Opening file \"..\\tests\\files\\sources\\twiss_binary\"\n",
      "INFO:pysdds.readers.readers:Mode (auto), compression (auto), endianness (auto)\n",
      "INFO:pysdds.readers.readers:Auto compression resolved as (None) from file extension\n",
      "INFO:pysdds.readers.readers:Header parsed: 62 parameters, 0 arrays, 18 columns\n",
      "INFO:pysdds.readers.readers:Finished in 7.818 ms\n",
      "INFO:pysdds.readers.readers:Totals: 1 pages, 174 rows, 62 parameters, 0/0 arrays, 18/18 columns\n",
      "\n"
     ]
    },
    {
     "name": "stdout",
     "output_type": "stream",
     "text": [
      "SDDSFile: 1 pages, 62 parameters, 0 arrays, 18 columns\n",
      " Page sizes: [174]\n",
      " Column mem usage: 0.0232 MB\n"
     ]
    }
   ],
   "source": [
    "# Read simple 1-page file\n",
    "sdds = pysdds.read('../tests/files/sources/twiss_binary')\n",
    "print(sdds.describe())"
   ],
   "metadata": {
    "collapsed": false,
    "pycharm": {
     "name": "#%%\n"
    }
   }
  },
  {
   "cell_type": "code",
   "execution_count": 3,
   "outputs": [
    {
     "data": {
      "text/plain": "[Column \"s\" (1 pages) at <0x22a8b93d180>: {'name': 's', 'units': 'm', 'description': 'Distance', 'type': 'double'},\n Column \"betax\" (1 pages) at <0x22a8b93b580>: {'name': 'betax', 'symbol': '$gb$r$bx$n', 'units': 'm', 'description': 'Horizontal beta-function', 'type': 'double'},\n Column \"alphax\" (1 pages) at <0x22a8b93b780>: {'name': 'alphax', 'symbol': '$ga$r$bx$n', 'description': 'Horizontal alpha-function', 'type': 'double'},\n Column \"psix\" (1 pages) at <0x22a8b93ba00>: {'name': 'psix', 'symbol': '$gy$r$bx$n', 'units': 'rad', 'description': 'Horizontal phase advance', 'type': 'double'},\n Column \"etax\" (1 pages) at <0x22a8b93bc40>: {'name': 'etax', 'symbol': '$gc$r$bx$n', 'units': 'm', 'description': 'Horizontal dispersion', 'type': 'double'},\n Column \"etaxp\" (1 pages) at <0x22a8b93be80>: {'name': 'etaxp', 'symbol': \"$gc$r$bx$n$a'$n\", 'description': 'Slope of horizontal dispersion', 'type': 'double'},\n Column \"xAperture\" (1 pages) at <0x22a8b8f8100>: {'name': 'xAperture', 'symbol': 'a$bx,eff$n', 'units': 'm', 'description': 'Effective horizontal aperture', 'type': 'double'},\n Column \"betay\" (1 pages) at <0x22a8b8f8340>: {'name': 'betay', 'symbol': '$gb$r$by$n', 'units': 'm', 'description': 'Vertical beta-function', 'type': 'double'},\n Column \"alphay\" (1 pages) at <0x22a8b8f8540>: {'name': 'alphay', 'symbol': '$ga$r$by$n', 'description': 'Vertical alpha-function', 'type': 'double'},\n Column \"psiy\" (1 pages) at <0x22a8b8f8780>: {'name': 'psiy', 'symbol': '$gy$r$by$n', 'units': 'rad', 'description': 'Vertical phase advance', 'type': 'double'},\n Column \"etay\" (1 pages) at <0x22a8b8f8a00>: {'name': 'etay', 'symbol': '$gc$r$by$n', 'units': 'm', 'description': 'Vertical dispersion', 'type': 'double'},\n Column \"etayp\" (1 pages) at <0x22a8b8f8c80>: {'name': 'etayp', 'symbol': \"$gc$r$by$n$a'$n\", 'description': 'Slope of vertical dispersion', 'type': 'double'},\n Column \"yAperture\" (1 pages) at <0x22a8b8f8f40>: {'name': 'yAperture', 'symbol': 'a$by,eff$n', 'units': 'm', 'description': 'Effective vertical aperture', 'type': 'double'},\n Column \"pCentral0\" (1 pages) at <0x22a8b938280>: {'name': 'pCentral0', 'symbol': 'p$bcent$n', 'units': 'm$be$nc', 'description': 'Initial central momentum', 'type': 'double'},\n Column \"ElementName\" (1 pages) at <0x22a8b938540>: {'name': 'ElementName', 'description': 'Element name', 'format_string': '%10s', 'type': 'string'},\n Column \"ElementOccurence\" (1 pages) at <0x22a8b9387c0>: {'name': 'ElementOccurence', 'description': 'Occurence of element', 'format_string': '%6ld', 'type': 'long'},\n Column \"ElementType\" (1 pages) at <0x22a8b938a00>: {'name': 'ElementType', 'description': 'Element-type name', 'format_string': '%10s', 'type': 'string'},\n Column \"ChamberShape\" (1 pages) at <0x22a8b938bc0>: {'name': 'ChamberShape', 'type': 'string'}]"
     },
     "execution_count": 3,
     "metadata": {},
     "output_type": "execute_result"
    }
   ],
   "source": [
    "# SDDS object has various attributes to access data structures\n",
    "sdds.columns"
   ],
   "metadata": {
    "collapsed": false,
    "pycharm": {
     "name": "#%%\n"
    }
   }
  },
  {
   "cell_type": "code",
   "execution_count": 4,
   "outputs": [
    {
     "data": {
      "text/plain": "Column \"betax\" (1 pages) at <0x22a8b93b580>: {'name': 'betax', 'symbol': '$gb$r$bx$n', 'units': 'm', 'description': 'Horizontal beta-function', 'type': 'double'}"
     },
     "execution_count": 4,
     "metadata": {},
     "output_type": "execute_result"
    }
   ],
   "source": [
    "# Columns and parameters are standard python objects\n",
    "sdds.col('betax')"
   ],
   "metadata": {
    "collapsed": false,
    "pycharm": {
     "name": "#%%\n"
    }
   }
  },
  {
   "cell_type": "code",
   "execution_count": 5,
   "outputs": [
    {
     "data": {
      "text/plain": "Parameter \"betaxMin\" (1 pages) at <0x22a8b94c7c0>: {'name': 'betaxMin', 'units': 'm', 'description': 'Minimum betax', 'type': 'double'}"
     },
     "execution_count": 5,
     "metadata": {},
     "output_type": "execute_result"
    }
   ],
   "source": [
    "# Columns and parameters are standard python objects\n",
    "sdds.par('betaxMin')"
   ],
   "metadata": {
    "collapsed": false,
    "pycharm": {
     "name": "#%%\n"
    }
   }
  },
  {
   "cell_type": "code",
   "execution_count": 6,
   "outputs": [
    {
     "name": "stdout",
     "output_type": "stream",
     "text": [
      "(174,) <class 'numpy.ndarray'>\n"
     ]
    }
   ],
   "source": [
    "# Data is stored in per-page list of arrays and can be accessed directly if needed\n",
    "page_0_data = sdds.col('betax').data[0]\n",
    "print(page_0_data.shape, type(page_0_data))"
   ],
   "metadata": {
    "collapsed": false,
    "pycharm": {
     "name": "#%%\n"
    }
   }
  },
  {
   "cell_type": "code",
   "execution_count": 7,
   "outputs": [
    {
     "data": {
      "text/plain": "        s     betax    alphax      psix      etax     etaxp  xAperture  \\\n0  0.0000  0.674302 -0.005001  0.000000 -0.007391  0.014243     0.0381   \n1  0.0000  0.674302 -0.005001  0.000000 -0.007391  0.014243     0.0381   \n2  0.0000  0.674302 -0.005001  0.000000 -0.007391  0.014243     0.0381   \n3  1.0525  2.327690 -1.565914  0.997473  0.007599  0.014243     0.0381   \n4  1.2625  3.983868 -7.105785  1.070053  0.011931  0.028061     0.0381   \n\n      betay    alphay      psiy  etay  etayp  yAperture   pCentral0  \\\n0  0.659750  0.003642  0.000000   0.0    0.0     0.0381  195.695076   \n1  0.659750  0.003642  0.000000   0.0    0.0     0.0381  195.695076   \n2  0.659750  0.003642  0.000000   0.0    0.0     0.0381  195.695076   \n3  2.331160 -1.591681  1.013494   0.0    0.0     0.0381  195.695076   \n4  2.291261  1.761977  1.099922   0.0    0.0     0.0381  195.695076   \n\n                                         ElementName  ElementOccurence  \\\n0                                              _BEG_                 1   \n1                                                MA1                 1   \n2                                           COORDS99                 1   \n3  NLLC_1_NLQ9D_NLLD_NLQ8D_NLL_NLQ7D_NLL_NLQ6D_NL...                 1   \n4                                               QB4R                 1   \n\n  ElementType ChamberShape  \n0        MARK               \n1      MAXAMP        rect.  \n2       WATCH        rect.  \n3      EDRIFT        rect.  \n4       KQUAD        rect.  ",
      "text/html": "<div>\n<style scoped>\n    .dataframe tbody tr th:only-of-type {\n        vertical-align: middle;\n    }\n\n    .dataframe tbody tr th {\n        vertical-align: top;\n    }\n\n    .dataframe thead th {\n        text-align: right;\n    }\n</style>\n<table border=\"1\" class=\"dataframe\">\n  <thead>\n    <tr style=\"text-align: right;\">\n      <th></th>\n      <th>s</th>\n      <th>betax</th>\n      <th>alphax</th>\n      <th>psix</th>\n      <th>etax</th>\n      <th>etaxp</th>\n      <th>xAperture</th>\n      <th>betay</th>\n      <th>alphay</th>\n      <th>psiy</th>\n      <th>etay</th>\n      <th>etayp</th>\n      <th>yAperture</th>\n      <th>pCentral0</th>\n      <th>ElementName</th>\n      <th>ElementOccurence</th>\n      <th>ElementType</th>\n      <th>ChamberShape</th>\n    </tr>\n  </thead>\n  <tbody>\n    <tr>\n      <th>0</th>\n      <td>0.0000</td>\n      <td>0.674302</td>\n      <td>-0.005001</td>\n      <td>0.000000</td>\n      <td>-0.007391</td>\n      <td>0.014243</td>\n      <td>0.0381</td>\n      <td>0.659750</td>\n      <td>0.003642</td>\n      <td>0.000000</td>\n      <td>0.0</td>\n      <td>0.0</td>\n      <td>0.0381</td>\n      <td>195.695076</td>\n      <td>_BEG_</td>\n      <td>1</td>\n      <td>MARK</td>\n      <td></td>\n    </tr>\n    <tr>\n      <th>1</th>\n      <td>0.0000</td>\n      <td>0.674302</td>\n      <td>-0.005001</td>\n      <td>0.000000</td>\n      <td>-0.007391</td>\n      <td>0.014243</td>\n      <td>0.0381</td>\n      <td>0.659750</td>\n      <td>0.003642</td>\n      <td>0.000000</td>\n      <td>0.0</td>\n      <td>0.0</td>\n      <td>0.0381</td>\n      <td>195.695076</td>\n      <td>MA1</td>\n      <td>1</td>\n      <td>MAXAMP</td>\n      <td>rect.</td>\n    </tr>\n    <tr>\n      <th>2</th>\n      <td>0.0000</td>\n      <td>0.674302</td>\n      <td>-0.005001</td>\n      <td>0.000000</td>\n      <td>-0.007391</td>\n      <td>0.014243</td>\n      <td>0.0381</td>\n      <td>0.659750</td>\n      <td>0.003642</td>\n      <td>0.000000</td>\n      <td>0.0</td>\n      <td>0.0</td>\n      <td>0.0381</td>\n      <td>195.695076</td>\n      <td>COORDS99</td>\n      <td>1</td>\n      <td>WATCH</td>\n      <td>rect.</td>\n    </tr>\n    <tr>\n      <th>3</th>\n      <td>1.0525</td>\n      <td>2.327690</td>\n      <td>-1.565914</td>\n      <td>0.997473</td>\n      <td>0.007599</td>\n      <td>0.014243</td>\n      <td>0.0381</td>\n      <td>2.331160</td>\n      <td>-1.591681</td>\n      <td>1.013494</td>\n      <td>0.0</td>\n      <td>0.0</td>\n      <td>0.0381</td>\n      <td>195.695076</td>\n      <td>NLLC_1_NLQ9D_NLLD_NLQ8D_NLL_NLQ7D_NLL_NLQ6D_NL...</td>\n      <td>1</td>\n      <td>EDRIFT</td>\n      <td>rect.</td>\n    </tr>\n    <tr>\n      <th>4</th>\n      <td>1.2625</td>\n      <td>3.983868</td>\n      <td>-7.105785</td>\n      <td>1.070053</td>\n      <td>0.011931</td>\n      <td>0.028061</td>\n      <td>0.0381</td>\n      <td>2.291261</td>\n      <td>1.761977</td>\n      <td>1.099922</td>\n      <td>0.0</td>\n      <td>0.0</td>\n      <td>0.0381</td>\n      <td>195.695076</td>\n      <td>QB4R</td>\n      <td>1</td>\n      <td>KQUAD</td>\n      <td>rect.</td>\n    </tr>\n  </tbody>\n</table>\n</div>"
     },
     "execution_count": 7,
     "metadata": {},
     "output_type": "execute_result"
    }
   ],
   "source": [
    "# Best way to work with small files (where memory is not a concern) is to convert to pandas DataFrames\n",
    "sdds.columns_to_df().head(5)"
   ],
   "metadata": {
    "collapsed": false,
    "pycharm": {
     "name": "#%%\n"
    }
   }
  },
  {
   "cell_type": "code",
   "execution_count": 8,
   "metadata": {
    "pycharm": {
     "name": "#%%\n"
    }
   },
   "outputs": [
    {
     "name": "stderr",
     "output_type": "stream",
     "text": [
      "INFO:pysdds.readers.readers:Opening file \"..\\tests\\files\\sources\\timeSeries.sdds\"\n",
      "INFO:pysdds.readers.readers:Mode (auto), compression (auto), endianness (auto)\n",
      "INFO:pysdds.readers.readers:Auto compression resolved as (None) from file extension\n",
      "INFO:pysdds.readers.readers:Header parsed: 11 parameters, 0 arrays, 2 columns\n",
      "INFO:pysdds.readers.readers:Finished in 192.041 ms\n",
      "INFO:pysdds.readers.readers:Totals: 157 pages, 67851 rows, 11 parameters, 0/0 arrays, 2/2 columns\n",
      "\n"
     ]
    },
    {
     "name": "stdout",
     "output_type": "stream",
     "text": [
      "SDDSFile: 157 pages, 11 parameters, 0 arrays, 2 columns\n",
      " Page sizes: [125, 21, 137, 170, 72, 2242, 3200, 105, 75, 98, 29, 256, 88, 299, 262, 14, 13, 85, 739, 278, 255, 560, 589, 257, 61, 308, 842, 1083, 746, 499, 3, 476, 125, 98, 36, 786, 213, 20, 835, 230, 528, 394, 377, 132, 210, 171, 41, 9, 300, 195, 476, 172, 516, 88, 299, 39, 71, 94, 38, 107, 56, 58, 207, 2055, 594, 141, 8384, 2408, 18, 18, 16, 16, 18, 18, 18, 18, 18, 18, 18, 16, 18, 18, 16, 18, 18, 16, 18, 18, 16, 16, 18, 18, 36, 16, 20, 12, 12, 16, 16, 16, 16, 16, 14, 10, 12, 10, 12, 12, 213, 3202, 740, 3861, 5800, 3102, 853, 281, 58, 48, 48, 54, 55, 602, 3641, 116, 86, 85, 56, 1374, 250, 336, 1143, 404, 145, 78, 230, 198, 38, 113, 122, 284, 36, 214, 344, 40, 90, 28, 7, 285, 20, 320, 1453, 1493, 22, 31, 110, 108, 480]\n",
      " Column mem usage: 1.0353 MB\n"
     ]
    }
   ],
   "source": [
    "# Multi-page files are also fully supported\n",
    "sdds = pysdds.read('../tests/files/sources/timeSeries.sdds')\n",
    "print(sdds.describe())"
   ]
  },
  {
   "cell_type": "code",
   "execution_count": 9,
   "outputs": [
    {
     "data": {
      "text/plain": "            ReadbackName                  ControlName\n0  InjectionTriggerCount       It:L:bunch_countCC.VAL\n1        P:ESP:Discharge  It:PSP:extDischargeDDG.GATE\n2        P:ISP:Discharge  It:PSP:injDischargeDDG.GATE\n3             Par1HzMode             It:Par:1HzBO.VAL\n4           P:ESP:Charge      It:ParExtChargeDDG.GATE",
      "text/html": "<div>\n<style scoped>\n    .dataframe tbody tr th:only-of-type {\n        vertical-align: middle;\n    }\n\n    .dataframe tbody tr th {\n        vertical-align: top;\n    }\n\n    .dataframe thead th {\n        text-align: right;\n    }\n</style>\n<table border=\"1\" class=\"dataframe\">\n  <thead>\n    <tr style=\"text-align: right;\">\n      <th></th>\n      <th>ReadbackName</th>\n      <th>ControlName</th>\n    </tr>\n  </thead>\n  <tbody>\n    <tr>\n      <th>0</th>\n      <td>InjectionTriggerCount</td>\n      <td>It:L:bunch_countCC.VAL</td>\n    </tr>\n    <tr>\n      <th>1</th>\n      <td>P:ESP:Discharge</td>\n      <td>It:PSP:extDischargeDDG.GATE</td>\n    </tr>\n    <tr>\n      <th>2</th>\n      <td>P:ISP:Discharge</td>\n      <td>It:PSP:injDischargeDDG.GATE</td>\n    </tr>\n    <tr>\n      <th>3</th>\n      <td>Par1HzMode</td>\n      <td>It:Par:1HzBO.VAL</td>\n    </tr>\n    <tr>\n      <th>4</th>\n      <td>P:ESP:Charge</td>\n      <td>It:ParExtChargeDDG.GATE</td>\n    </tr>\n  </tbody>\n</table>\n</div>"
     },
     "execution_count": 9,
     "metadata": {},
     "output_type": "execute_result"
    }
   ],
   "source": [
    "sdds.columns_to_df(page=10).head(5)"
   ],
   "metadata": {
    "collapsed": false,
    "pycharm": {
     "name": "#%%\n"
    }
   }
  },
  {
   "cell_type": "code",
   "execution_count": 10,
   "metadata": {
    "pycharm": {
     "name": "#%%\n"
    }
   },
   "outputs": [
    {
     "data": {
      "text/plain": "              ReadbackName          ControlName\n0   G:PW:Sector1/2ZoneTemp  G:SR02:TunnelTempAi\n1   G:PW:Sector3/4ZoneTemp  G:SR04:TunnelTempAi\n2   G:PW:Sector5/6ZoneTemp  G:SR06:TunnelTempAi\n3   G:PW:Sector7/8ZoneTemp  G:SR08:TunnelTempAi\n4  G:PW:Sector9/10ZoneTemp  G:SR10:TunnelTempAi",
      "text/html": "<div>\n<style scoped>\n    .dataframe tbody tr th:only-of-type {\n        vertical-align: middle;\n    }\n\n    .dataframe tbody tr th {\n        vertical-align: top;\n    }\n\n    .dataframe thead th {\n        text-align: right;\n    }\n</style>\n<table border=\"1\" class=\"dataframe\">\n  <thead>\n    <tr style=\"text-align: right;\">\n      <th></th>\n      <th>ReadbackName</th>\n      <th>ControlName</th>\n    </tr>\n  </thead>\n  <tbody>\n    <tr>\n      <th>0</th>\n      <td>G:PW:Sector1/2ZoneTemp</td>\n      <td>G:SR02:TunnelTempAi</td>\n    </tr>\n    <tr>\n      <th>1</th>\n      <td>G:PW:Sector3/4ZoneTemp</td>\n      <td>G:SR04:TunnelTempAi</td>\n    </tr>\n    <tr>\n      <th>2</th>\n      <td>G:PW:Sector5/6ZoneTemp</td>\n      <td>G:SR06:TunnelTempAi</td>\n    </tr>\n    <tr>\n      <th>3</th>\n      <td>G:PW:Sector7/8ZoneTemp</td>\n      <td>G:SR08:TunnelTempAi</td>\n    </tr>\n    <tr>\n      <th>4</th>\n      <td>G:PW:Sector9/10ZoneTemp</td>\n      <td>G:SR10:TunnelTempAi</td>\n    </tr>\n  </tbody>\n</table>\n</div>"
     },
     "execution_count": 10,
     "metadata": {},
     "output_type": "execute_result"
    }
   ],
   "source": [
    "# For most methods that accept page number, first available page is used by default if not specified\n",
    "sdds.columns_to_df().head(5)"
   ]
  },
  {
   "cell_type": "code",
   "execution_count": 11,
   "outputs": [
    {
     "data": {
      "text/plain": "      NumberCombined                                    InstallLocation  \\\nPage                                                                      \n0                157  /home/helios/oagData/logging/virtualLoggers/ID...   \n1                157         /home/helios/oagData/logging/ACIS/ACIS.mon   \n2                157  /home/helios/oagData/monitoring/BInjection/BIn...   \n3                157        /home/helios/oagData/monitoring/BRF/BRF.mon   \n4                157    /home/helios/oagData/monitoring/BTSPS/BTSPS.mon   \n...              ...                                                ...   \n152              157           /home/helios/oagData/logging/MM1/MM1.mon   \n153              157           /home/helios/oagData/logging/DMM/DMM.mon   \n154              157  /home/helios/oagData/logging/PSTestStand/PSTes...   \n155              157  /home/helios/oagData/monitoring/SRrfFast/SRrfF...   \n156              157                                                      \n\n     TimeStamp ChangeComment  Interval  Steps  \\\nPage                                            \n0                                  0.0      0   \n1                                  0.0      0   \n2                                  0.0      0   \n3                                  0.0      0   \n4                                  0.0      0   \n...        ...           ...       ...    ...   \n152                                0.0      0   \n153                                0.0      0   \n154                                0.0      0   \n155                                0.0      0   \n156                                0.0      0   \n\n                                               Filename  \\\nPage                                                      \n0     /home/helios/oagData/logging/virtualLoggers/ID...   \n1            /home/helios/oagData/logging/ACIS/ACIS.mon   \n2     /home/helios/oagData/monitoring/BInjection/BIn...   \n3           /home/helios/oagData/monitoring/BRF/BRF.mon   \n4       /home/helios/oagData/monitoring/BTSPS/BTSPS.mon   \n...                                                 ...   \n152            /home/helios/oagData/logging/MM1/MM1.mon   \n153            /home/helios/oagData/logging/DMM/DMM.mon   \n154   /home/helios/oagData/logging/PSTestStand/PSTes...   \n155   /home/helios/oagData/monitoring/SRrfFast/SRrfF...   \n156   /home/helios/oagData/monitoring/SRFastLog1/SRF...   \n\n                                              ChangeLog  \\\nPage                                                      \n0                                                         \n1                                                         \n2                                                         \n3                                                         \n4                                                         \n...                                                 ...   \n152                                                       \n153                                                       \n154                                                       \n155   xrefed control name from SRrf.mon, H.S. 6/13/2006   \n156                                                       \n\n                                      GroupName            subDirectory  \\\nPage                                                                      \n0     ID Source Position and Tunnel Temperature  logging/virtualLoggers   \n1                                     Misc ACIS            logging/ACIS   \n2                             Booster Injection   monitoring/BInjection   \n3                                    Booster rf          monitoring/BRF   \n4                            BTS Power Supplies        monitoring/BTSPS   \n...                                         ...                     ...   \n152                                         MM1             logging/MM1   \n153                                         DMM             logging/DMM   \n154                               PS Test Stand     logging/PSTestStand   \n155                                  SR rf Fast     monitoring/SRrfFast   \n156                              SR Fast Logger   monitoring/SRFastLog1   \n\n                   rootname  \nPage                         \n0     IDPositionTemperature  \n1                      ACIS  \n2                BInjection  \n3                       BRF  \n4                     BTSPS  \n...                     ...  \n152                     MM1  \n153                     DMM  \n154             PSTestStand  \n155                SRrfFast  \n156              SRFastLog1  \n\n[157 rows x 11 columns]",
      "text/html": "<div>\n<style scoped>\n    .dataframe tbody tr th:only-of-type {\n        vertical-align: middle;\n    }\n\n    .dataframe tbody tr th {\n        vertical-align: top;\n    }\n\n    .dataframe thead th {\n        text-align: right;\n    }\n</style>\n<table border=\"1\" class=\"dataframe\">\n  <thead>\n    <tr style=\"text-align: right;\">\n      <th></th>\n      <th>NumberCombined</th>\n      <th>InstallLocation</th>\n      <th>TimeStamp</th>\n      <th>ChangeComment</th>\n      <th>Interval</th>\n      <th>Steps</th>\n      <th>Filename</th>\n      <th>ChangeLog</th>\n      <th>GroupName</th>\n      <th>subDirectory</th>\n      <th>rootname</th>\n    </tr>\n    <tr>\n      <th>Page</th>\n      <th></th>\n      <th></th>\n      <th></th>\n      <th></th>\n      <th></th>\n      <th></th>\n      <th></th>\n      <th></th>\n      <th></th>\n      <th></th>\n      <th></th>\n    </tr>\n  </thead>\n  <tbody>\n    <tr>\n      <th>0</th>\n      <td>157</td>\n      <td>/home/helios/oagData/logging/virtualLoggers/ID...</td>\n      <td></td>\n      <td></td>\n      <td>0.0</td>\n      <td>0</td>\n      <td>/home/helios/oagData/logging/virtualLoggers/ID...</td>\n      <td></td>\n      <td>ID Source Position and Tunnel Temperature</td>\n      <td>logging/virtualLoggers</td>\n      <td>IDPositionTemperature</td>\n    </tr>\n    <tr>\n      <th>1</th>\n      <td>157</td>\n      <td>/home/helios/oagData/logging/ACIS/ACIS.mon</td>\n      <td></td>\n      <td></td>\n      <td>0.0</td>\n      <td>0</td>\n      <td>/home/helios/oagData/logging/ACIS/ACIS.mon</td>\n      <td></td>\n      <td>Misc ACIS</td>\n      <td>logging/ACIS</td>\n      <td>ACIS</td>\n    </tr>\n    <tr>\n      <th>2</th>\n      <td>157</td>\n      <td>/home/helios/oagData/monitoring/BInjection/BIn...</td>\n      <td></td>\n      <td></td>\n      <td>0.0</td>\n      <td>0</td>\n      <td>/home/helios/oagData/monitoring/BInjection/BIn...</td>\n      <td></td>\n      <td>Booster Injection</td>\n      <td>monitoring/BInjection</td>\n      <td>BInjection</td>\n    </tr>\n    <tr>\n      <th>3</th>\n      <td>157</td>\n      <td>/home/helios/oagData/monitoring/BRF/BRF.mon</td>\n      <td></td>\n      <td></td>\n      <td>0.0</td>\n      <td>0</td>\n      <td>/home/helios/oagData/monitoring/BRF/BRF.mon</td>\n      <td></td>\n      <td>Booster rf</td>\n      <td>monitoring/BRF</td>\n      <td>BRF</td>\n    </tr>\n    <tr>\n      <th>4</th>\n      <td>157</td>\n      <td>/home/helios/oagData/monitoring/BTSPS/BTSPS.mon</td>\n      <td></td>\n      <td></td>\n      <td>0.0</td>\n      <td>0</td>\n      <td>/home/helios/oagData/monitoring/BTSPS/BTSPS.mon</td>\n      <td></td>\n      <td>BTS Power Supplies</td>\n      <td>monitoring/BTSPS</td>\n      <td>BTSPS</td>\n    </tr>\n    <tr>\n      <th>...</th>\n      <td>...</td>\n      <td>...</td>\n      <td>...</td>\n      <td>...</td>\n      <td>...</td>\n      <td>...</td>\n      <td>...</td>\n      <td>...</td>\n      <td>...</td>\n      <td>...</td>\n      <td>...</td>\n    </tr>\n    <tr>\n      <th>152</th>\n      <td>157</td>\n      <td>/home/helios/oagData/logging/MM1/MM1.mon</td>\n      <td></td>\n      <td></td>\n      <td>0.0</td>\n      <td>0</td>\n      <td>/home/helios/oagData/logging/MM1/MM1.mon</td>\n      <td></td>\n      <td>MM1</td>\n      <td>logging/MM1</td>\n      <td>MM1</td>\n    </tr>\n    <tr>\n      <th>153</th>\n      <td>157</td>\n      <td>/home/helios/oagData/logging/DMM/DMM.mon</td>\n      <td></td>\n      <td></td>\n      <td>0.0</td>\n      <td>0</td>\n      <td>/home/helios/oagData/logging/DMM/DMM.mon</td>\n      <td></td>\n      <td>DMM</td>\n      <td>logging/DMM</td>\n      <td>DMM</td>\n    </tr>\n    <tr>\n      <th>154</th>\n      <td>157</td>\n      <td>/home/helios/oagData/logging/PSTestStand/PSTes...</td>\n      <td></td>\n      <td></td>\n      <td>0.0</td>\n      <td>0</td>\n      <td>/home/helios/oagData/logging/PSTestStand/PSTes...</td>\n      <td></td>\n      <td>PS Test Stand</td>\n      <td>logging/PSTestStand</td>\n      <td>PSTestStand</td>\n    </tr>\n    <tr>\n      <th>155</th>\n      <td>157</td>\n      <td>/home/helios/oagData/monitoring/SRrfFast/SRrfF...</td>\n      <td></td>\n      <td></td>\n      <td>0.0</td>\n      <td>0</td>\n      <td>/home/helios/oagData/monitoring/SRrfFast/SRrfF...</td>\n      <td>xrefed control name from SRrf.mon, H.S. 6/13/2006</td>\n      <td>SR rf Fast</td>\n      <td>monitoring/SRrfFast</td>\n      <td>SRrfFast</td>\n    </tr>\n    <tr>\n      <th>156</th>\n      <td>157</td>\n      <td></td>\n      <td></td>\n      <td></td>\n      <td>0.0</td>\n      <td>0</td>\n      <td>/home/helios/oagData/monitoring/SRFastLog1/SRF...</td>\n      <td></td>\n      <td>SR Fast Logger</td>\n      <td>monitoring/SRFastLog1</td>\n      <td>SRFastLog1</td>\n    </tr>\n  </tbody>\n</table>\n<p>157 rows × 11 columns</p>\n</div>"
     },
     "execution_count": 11,
     "metadata": {},
     "output_type": "execute_result"
    }
   ],
   "source": [
    "# Convert parameters to a dataframe with 1 row per page\n",
    "sdds.parameters_to_df()"
   ],
   "metadata": {
    "collapsed": false,
    "pycharm": {
     "name": "#%%\n"
    }
   }
  },
  {
   "cell_type": "code",
   "execution_count": 12,
   "outputs": [
    {
     "data": {
      "text/plain": "              ReadbackName          ControlName  NumberCombined  \\\n0   G:PW:Sector1/2ZoneTemp  G:SR02:TunnelTempAi             157   \n1   G:PW:Sector3/4ZoneTemp  G:SR04:TunnelTempAi             157   \n2   G:PW:Sector5/6ZoneTemp  G:SR06:TunnelTempAi             157   \n3   G:PW:Sector7/8ZoneTemp  G:SR08:TunnelTempAi             157   \n4  G:PW:Sector9/10ZoneTemp  G:SR10:TunnelTempAi             157   \n\n                                     InstallLocation TimeStamp ChangeComment  \\\n0  /home/helios/oagData/logging/virtualLoggers/ID...                           \n1  /home/helios/oagData/logging/virtualLoggers/ID...                           \n2  /home/helios/oagData/logging/virtualLoggers/ID...                           \n3  /home/helios/oagData/logging/virtualLoggers/ID...                           \n4  /home/helios/oagData/logging/virtualLoggers/ID...                           \n\n   Interval  Steps                                           Filename  \\\n0       0.0      0  /home/helios/oagData/logging/virtualLoggers/ID...   \n1       0.0      0  /home/helios/oagData/logging/virtualLoggers/ID...   \n2       0.0      0  /home/helios/oagData/logging/virtualLoggers/ID...   \n3       0.0      0  /home/helios/oagData/logging/virtualLoggers/ID...   \n4       0.0      0  /home/helios/oagData/logging/virtualLoggers/ID...   \n\n  ChangeLog                                  GroupName  \\\n0            ID Source Position and Tunnel Temperature   \n1            ID Source Position and Tunnel Temperature   \n2            ID Source Position and Tunnel Temperature   \n3            ID Source Position and Tunnel Temperature   \n4            ID Source Position and Tunnel Temperature   \n\n             subDirectory               rootname  \n0  logging/virtualLoggers  IDPositionTemperature  \n1  logging/virtualLoggers  IDPositionTemperature  \n2  logging/virtualLoggers  IDPositionTemperature  \n3  logging/virtualLoggers  IDPositionTemperature  \n4  logging/virtualLoggers  IDPositionTemperature  ",
      "text/html": "<div>\n<style scoped>\n    .dataframe tbody tr th:only-of-type {\n        vertical-align: middle;\n    }\n\n    .dataframe tbody tr th {\n        vertical-align: top;\n    }\n\n    .dataframe thead th {\n        text-align: right;\n    }\n</style>\n<table border=\"1\" class=\"dataframe\">\n  <thead>\n    <tr style=\"text-align: right;\">\n      <th></th>\n      <th>ReadbackName</th>\n      <th>ControlName</th>\n      <th>NumberCombined</th>\n      <th>InstallLocation</th>\n      <th>TimeStamp</th>\n      <th>ChangeComment</th>\n      <th>Interval</th>\n      <th>Steps</th>\n      <th>Filename</th>\n      <th>ChangeLog</th>\n      <th>GroupName</th>\n      <th>subDirectory</th>\n      <th>rootname</th>\n    </tr>\n  </thead>\n  <tbody>\n    <tr>\n      <th>0</th>\n      <td>G:PW:Sector1/2ZoneTemp</td>\n      <td>G:SR02:TunnelTempAi</td>\n      <td>157</td>\n      <td>/home/helios/oagData/logging/virtualLoggers/ID...</td>\n      <td></td>\n      <td></td>\n      <td>0.0</td>\n      <td>0</td>\n      <td>/home/helios/oagData/logging/virtualLoggers/ID...</td>\n      <td></td>\n      <td>ID Source Position and Tunnel Temperature</td>\n      <td>logging/virtualLoggers</td>\n      <td>IDPositionTemperature</td>\n    </tr>\n    <tr>\n      <th>1</th>\n      <td>G:PW:Sector3/4ZoneTemp</td>\n      <td>G:SR04:TunnelTempAi</td>\n      <td>157</td>\n      <td>/home/helios/oagData/logging/virtualLoggers/ID...</td>\n      <td></td>\n      <td></td>\n      <td>0.0</td>\n      <td>0</td>\n      <td>/home/helios/oagData/logging/virtualLoggers/ID...</td>\n      <td></td>\n      <td>ID Source Position and Tunnel Temperature</td>\n      <td>logging/virtualLoggers</td>\n      <td>IDPositionTemperature</td>\n    </tr>\n    <tr>\n      <th>2</th>\n      <td>G:PW:Sector5/6ZoneTemp</td>\n      <td>G:SR06:TunnelTempAi</td>\n      <td>157</td>\n      <td>/home/helios/oagData/logging/virtualLoggers/ID...</td>\n      <td></td>\n      <td></td>\n      <td>0.0</td>\n      <td>0</td>\n      <td>/home/helios/oagData/logging/virtualLoggers/ID...</td>\n      <td></td>\n      <td>ID Source Position and Tunnel Temperature</td>\n      <td>logging/virtualLoggers</td>\n      <td>IDPositionTemperature</td>\n    </tr>\n    <tr>\n      <th>3</th>\n      <td>G:PW:Sector7/8ZoneTemp</td>\n      <td>G:SR08:TunnelTempAi</td>\n      <td>157</td>\n      <td>/home/helios/oagData/logging/virtualLoggers/ID...</td>\n      <td></td>\n      <td></td>\n      <td>0.0</td>\n      <td>0</td>\n      <td>/home/helios/oagData/logging/virtualLoggers/ID...</td>\n      <td></td>\n      <td>ID Source Position and Tunnel Temperature</td>\n      <td>logging/virtualLoggers</td>\n      <td>IDPositionTemperature</td>\n    </tr>\n    <tr>\n      <th>4</th>\n      <td>G:PW:Sector9/10ZoneTemp</td>\n      <td>G:SR10:TunnelTempAi</td>\n      <td>157</td>\n      <td>/home/helios/oagData/logging/virtualLoggers/ID...</td>\n      <td></td>\n      <td></td>\n      <td>0.0</td>\n      <td>0</td>\n      <td>/home/helios/oagData/logging/virtualLoggers/ID...</td>\n      <td></td>\n      <td>ID Source Position and Tunnel Temperature</td>\n      <td>logging/virtualLoggers</td>\n      <td>IDPositionTemperature</td>\n    </tr>\n  </tbody>\n</table>\n</div>"
     },
     "execution_count": 12,
     "metadata": {},
     "output_type": "execute_result"
    }
   ],
   "source": [
    "# Both parameters and columns can be viewed in single table by expanding values to columns\n",
    "sdds.page_to_df().head(5)"
   ],
   "metadata": {
    "collapsed": false,
    "pycharm": {
     "name": "#%%\n"
    }
   }
  },
  {
   "cell_type": "code",
   "execution_count": 13,
   "outputs": [
    {
     "name": "stderr",
     "output_type": "stream",
     "text": [
      "INFO:pysdds.readers.readers:Opening file \"..\\tests\\files\\sources\\timeSeries.sdds\"\n",
      "INFO:pysdds.readers.readers:Mode (auto), compression (auto), endianness (auto)\n",
      "INFO:pysdds.readers.readers:Auto compression resolved as (None) from file extension\n",
      "INFO:pysdds.readers.readers:Header parsed: 11 parameters, 0 arrays, 2 columns\n",
      "WARNING:pysdds.readers.readers:Pages mask [False, False, False, False, False, True] is too short - have at least 1931568 extra bytes\n",
      "INFO:pysdds.readers.readers:Finished in 11.989 ms\n",
      "INFO:pysdds.readers.readers:Totals: 1 pages, 2242 rows, 11 parameters, 0/0 arrays, 1/2 columns\n",
      "\n"
     ]
    },
    {
     "name": "stdout",
     "output_type": "stream",
     "text": [
      "SDDSFile: 1 pages, 11 parameters, 0 arrays, 2 columns\n",
      " Page sizes: [2242]\n",
      " Column mem usage: 0.0171 MB\n"
     ]
    }
   ],
   "source": [
    "# Page selection should be specified at read time if possible for better performance and smaller memory usage\n",
    "# However, be careful - sdds indexing still starts from 0 (in other words, as if a new file with only selected pages was read)\n",
    "sdds = pysdds.read('../tests/files/sources/timeSeries.sdds', pages=[5], cols=['ControlName'])\n",
    "print(sdds.describe())"
   ],
   "metadata": {
    "collapsed": false,
    "pycharm": {
     "name": "#%%\n"
    }
   }
  },
  {
   "cell_type": "code",
   "execution_count": 13,
   "outputs": [],
   "source": [],
   "metadata": {
    "collapsed": false,
    "pycharm": {
     "name": "#%%\n"
    }
   }
  }
 ],
 "metadata": {
  "interpreter": {
   "hash": "822805c3b960417ea6ff24e4f8316e2e2534248403955ed1281f21577e2436c4"
  },
  "kernelspec": {
   "display_name": "Python 3.9.7 64-bit ('py39': conda)",
   "name": "python3"
  },
  "language_info": {
   "codemirror_mode": {
    "name": "ipython",
    "version": 3
   },
   "file_extension": ".py",
   "mimetype": "text/x-python",
   "name": "python",
   "nbconvert_exporter": "python",
   "pygments_lexer": "ipython3",
   "version": "3.9.7"
  },
  "orig_nbformat": 4
 },
 "nbformat": 4,
 "nbformat_minor": 2
}