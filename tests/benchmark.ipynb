{
 "cells": [
  {
   "cell_type": "code",
   "execution_count": 1,
   "metadata": {
    "collapsed": true
   },
   "outputs": [],
   "source": [
    "import pysdds\n",
    "import glob, time, pathlib"
   ]
  },
  {
   "cell_type": "code",
   "execution_count": 2,
   "outputs": [],
   "source": [
    "subroots = ['sources','sources_binary_rowmajor','sources_binary_colmajor','sources_ascii']"
   ],
   "metadata": {
    "collapsed": false
   }
  },
  {
   "cell_type": "code",
   "execution_count": 4,
   "outputs": [],
   "source": [
    "root_sources = pathlib.Path('files')\n",
    "folders = {sub:root_sources / sub for sub in subroots}\n",
    "files = {sub:list(d.glob('*')) for sub,d in folders.items()}\n",
    "file_sets = [set([pathlib.Path(v).name for v in l]) for l in files.values() ]\n",
    "assert all(s == file_sets[0] for s in file_sets[1:]), f'Files are different: {file_sets}'"
   ],
   "metadata": {
    "collapsed": false
   }
  },
  {
   "cell_type": "code",
   "execution_count": 5,
   "outputs": [],
   "source": [
    "#Warm-up\n",
    "for k,v in files.items():\n",
    "    for f in v:\n",
    "        sdds = pysdds.read(f)\n",
    "\n",
    "#Run\n",
    "results = {}\n",
    "for k,v in files.items():\n",
    "    t1 = time.perf_counter()\n",
    "    for f in v:\n",
    "        sdds = pysdds.read(f)\n",
    "    results[k] = time.perf_counter()-t1"
   ],
   "metadata": {
    "collapsed": false
   }
  },
  {
   "cell_type": "code",
   "execution_count": 7,
   "outputs": [
    {
     "name": "stdout",
     "output_type": "stream",
     "text": [
      "{'sources': 0.6717871999999261, 'sources_binary_rowmajor': 0.4475608000000193, 'sources_binary_colmajor': 0.20274080000012873, 'sources_ascii': 5.102693100000124}\n"
     ]
    }
   ],
   "source": [
    "print(results)"
   ],
   "metadata": {
    "collapsed": false
   }
  },
  {
   "cell_type": "code",
   "execution_count": 10,
   "outputs": [
    {
     "name": "stdout",
     "output_type": "stream",
     "text": [
      "{'sources': 0.01575589999993099, 'sources_binary_rowmajor': 0.020142000000078042, 'sources_binary_colmajor': 0.014804200000071432, 'sources_ascii': 0.014597200000025623}\n",
      "{'sources': 0.015681699999959164, 'sources_binary_rowmajor': 0.01466830000003938, 'sources_binary_colmajor': 0.014965999999958512, 'sources_ascii': 0.014539799999965908}\n"
     ]
    }
   ],
   "source": [
    "pysdds._HEADER_PARSE_METHOD = 'v1'\n",
    "results = {}\n",
    "for k,v in files.items():\n",
    "    t1 = time.perf_counter()\n",
    "    for f in v:\n",
    "        sdds = pysdds.read(f, header_only=True)\n",
    "    results[k] = time.perf_counter()-t1\n",
    "print(results)\n",
    "\n",
    "pysdds._HEADER_PARSE_METHOD = 'v2'\n",
    "results = {}\n",
    "for k,v in files.items():\n",
    "    t1 = time.perf_counter()\n",
    "    for f in v:\n",
    "        sdds = pysdds.read(f, header_only=True)\n",
    "    results[k] = time.perf_counter()-t1\n",
    "print(results)"
   ],
   "metadata": {
    "collapsed": false
   }
  },
  {
   "cell_type": "code",
   "execution_count": null,
   "outputs": [],
   "source": [],
   "metadata": {
    "collapsed": false
   }
  },
  {
   "cell_type": "code",
   "execution_count": 58,
   "outputs": [],
   "source": [
    "s = 'sources_large'\n",
    "subroots = [s,f'{s}_binary_rowmajor',f'{s}_binary_colmajor',f'{s}_ascii']\n",
    "root_sources = pathlib.Path('files')\n",
    "folders = {sub:root_sources / sub for sub in subroots}\n",
    "files = {sub:list(d.glob('*')) for sub,d in folders.items()}\n",
    "file_sets = [set([pathlib.Path(v).name for v in l]) for l in files.values() ]\n",
    "assert all(s == file_sets[0] for s in file_sets[1:]), f'Files are different: {file_sets}'"
   ],
   "metadata": {
    "collapsed": false
   }
  },
  {
   "cell_type": "code",
   "execution_count": 59,
   "outputs": [
    {
     "name": "stdout",
     "output_type": "stream",
     "text": [
      "{'sources_large': 2.078699999998207, 'sources_large_binary_rowmajor': 1.72750239999732, 'sources_large_binary_colmajor': 1.1594378000008874, 'sources_large_ascii': 22.929769100002886}\n"
     ]
    }
   ],
   "source": [
    "#Warm-up\n",
    "for k,v in files.items():\n",
    "    for f in v:\n",
    "        sdds = pysdds.read(f)\n",
    "\n",
    "#Run\n",
    "results = {}\n",
    "for k,v in files.items():\n",
    "    t1 = time.perf_counter()\n",
    "    for f in v:\n",
    "        sdds = pysdds.read(f)\n",
    "    results[k] = time.perf_counter()-t1\n",
    "\n",
    "print(results)"
   ],
   "metadata": {
    "collapsed": false
   }
  }
 ],
 "metadata": {
  "kernelspec": {
   "display_name": "Python 3",
   "language": "python",
   "name": "python3"
  },
  "language_info": {
   "codemirror_mode": {
    "name": "ipython",
    "version": 2
   },
   "file_extension": ".py",
   "mimetype": "text/x-python",
   "name": "python",
   "nbconvert_exporter": "python",
   "pygments_lexer": "ipython2",
   "version": "2.7.6"
  }
 },
 "nbformat": 4,
 "nbformat_minor": 0
}
